{
 "cells": [
  {
   "cell_type": "code",
   "execution_count": 1,
   "metadata": {},
   "outputs": [],
   "source": [
    "import pandas as pd\n",
    "import csv\n",
    "import matplotlib.pyplot as plt\n",
    "from tensorflow import keras\n",
    "from tensorflow.keras.preprocessing.text import Tokenizer\n",
    "from tensorflow.keras.preprocessing.sequence import pad_sequences\n",
    "from glob import glob\n",
    "import re\n",
    "import neattext as nt\n",
    "import neattext.functions as nfx\n",
    "from textblob import TextBlob\n",
    "import numpy as np"
   ]
  },
  {
   "cell_type": "code",
   "execution_count": 2,
   "metadata": {},
   "outputs": [
    {
     "name": "stdout",
     "output_type": "stream",
     "text": [
      "Model: \"sequential\"\n",
      "_________________________________________________________________\n",
      "Layer (type)                 Output Shape              Param #   \n",
      "=================================================================\n",
      "embedding (Embedding)        (None, 200, 32)           196256    \n",
      "_________________________________________________________________\n",
      "spatial_dropout1d (SpatialDr (None, 200, 32)           0         \n",
      "_________________________________________________________________\n",
      "lstm (LSTM)                  (None, 50)                16600     \n",
      "_________________________________________________________________\n",
      "dropout (Dropout)            (None, 50)                0         \n",
      "_________________________________________________________________\n",
      "dense (Dense)                (None, 1)                 51        \n",
      "=================================================================\n",
      "Total params: 212,907\n",
      "Trainable params: 212,907\n",
      "Non-trainable params: 0\n",
      "_________________________________________________________________\n",
      "None\n",
      "Epoch 1/5\n",
      "274/274 [==============================] - 34s 115ms/step - loss: 0.1326 - accuracy: 0.9639 - val_loss: 0.0067 - val_accuracy: 1.0000\n",
      "Epoch 2/5\n",
      "274/274 [==============================] - 30s 109ms/step - loss: 0.0050 - accuracy: 1.0000 - val_loss: 0.0012 - val_accuracy: 1.0000\n",
      "Epoch 3/5\n",
      "274/274 [==============================] - 30s 109ms/step - loss: 0.0016 - accuracy: 1.0000 - val_loss: 4.7898e-04 - val_accuracy: 1.0000\n",
      "Epoch 4/5\n",
      "274/274 [==============================] - 30s 110ms/step - loss: 7.7691e-04 - accuracy: 1.0000 - val_loss: 2.6754e-04 - val_accuracy: 1.0000\n",
      "Epoch 5/5\n",
      "274/274 [==============================] - 30s 109ms/step - loss: 4.6363e-04 - accuracy: 1.0000 - val_loss: 1.7096e-04 - val_accuracy: 1.0000\n",
      "====================================\n",
      "Positive\n",
      "\n"
     ]
    },
    {
     "data": {
      "text/plain": [
       "<matplotlib.legend.Legend at 0x2a2676c0910>"
      ]
     },
     "execution_count": 2,
     "metadata": {},
     "output_type": "execute_result"
    },
    {
     "data": {
      "image/png": "[encoded data removed]",
      "text/plain": [
       "<Figure size 432x288 with 1 Axes>"
      ]
     },
     "metadata": {
      "needs_background": "light"
     },
     "output_type": "display_data"
    }
   ],
   "source": [
    "MODEL_FILE = \"data/binary_crossentropy\"\n",
    "\n",
    "#Function for sentiment Analysis\n",
    "#\n",
    "# def analyze_sentiment(self, text):\n",
    "#     analysis = TextBlob(self.clean(text))\n",
    "            \n",
    "#     if analysis.sentiment.polarity > 0: #Positive \n",
    "#         return 'Positive'\n",
    "#     elif analysis.sentiment.polarity == 0: #Neutral\n",
    "#             return 'Neutral'\n",
    "#     else:\n",
    "#         return 'Negative' #Negative\n",
    "# #Loading in imdb dataset    \n",
    "data = pd.read_csv(\"main corpus/pos_sentiment_included.csv\")\n",
    "pos_df = data\n",
    "# pos_df ['sentiment'] =  np.array([dataAnalyzer.analyze_sentiment(text) for text in pos_df['0']])\n",
    "# pos_df .to_csv(r'pos_sentiment_included.csv', index = False, header=True)\n",
    "# pos_df\n",
    "\n",
    "\n",
    "#Preparing the text for NLP\n",
    "random_corpus = pos_df.sentiment\n",
    "tokenizer = Tokenizer(num_words=8000)\n",
    "tokenizer.fit_on_texts(random_corpus)\n",
    "vocab_size = len(tokenizer.word_index) + 1\n",
    "encoded_docs = tokenizer.texts_to_sequences(random_corpus)\n",
    "padded_sequence = pad_sequences(encoded_docs, maxlen=200)\n",
    "\n",
    "sentiment_label = pos_df.sentiment.factorize()\n",
    "\n",
    "#Instantiating made model\n",
    "model = keras.models.load_model(MODEL_FILE)\n",
    "print(model.summary())\n",
    "history = model.fit(padded_sequence,sentiment_label[0],validation_split=0.3, epochs=5, batch_size=32)\n",
    "test_word = pos_df.values[20]\n",
    "test_word = str(test_word)\n",
    "\n",
    "tw = tokenizer.texts_to_sequences([test_word])\n",
    "tw = pad_sequences(tw,maxlen=200)\n",
    "prediction = int(model.predict(tw).round().item())\n",
    "print(\"====================================\")\n",
    "print(sentiment_label[1][prediction])\n",
    "print()\n",
    "plt.plot(history.history['loss'], label  = 'loss')\n",
    "plt.plot(history.history['val_loss'], label = 'val_loss')\n",
    "plt.legend()"
   ]
  }
 ],
 "metadata": {
  "kernelspec": {
   "display_name": "Python 3",
   "language": "python",
   "name": "python3"
  },
  "language_info": {
   "codemirror_mode": {
    "name": "ipython",
    "version": 3
   },
   "file_extension": ".py",
   "mimetype": "text/x-python",
   "name": "python",
   "nbconvert_exporter": "python",
   "pygments_lexer": "ipython3",
   "version": "3.8.5"
  }
 },
 "nbformat": 4,
 "nbformat_minor": 4
}
